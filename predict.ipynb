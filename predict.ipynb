{
 "cells": [
  {
   "cell_type": "code",
   "execution_count": 12,
   "metadata": {},
   "outputs": [],
   "source": [
    "# imports\n",
    "import numpy as np\n",
    "from tensorflow import keras\n",
    "import cv2\n",
    "from keras.models import load_model\n",
    "from keras.optimizers import SGD\n",
    "\n",
    "# constraining the image size \n",
    "img_width, img_height = 200, 200"
   ]
  },
  {
   "cell_type": "code",
   "execution_count": 13,
   "metadata": {},
   "outputs": [],
   "source": [
    "# load and compile model previously made with the training.ipynb\n",
    "model = load_model('chest_images_vgg19.h5')\n",
    "model.compile(loss = \"binary_crossentropy\", \n",
    "              optimizer = SGD(lr=0.001, momentum=0.9), \n",
    "              metrics=[\"accuracy\"])"
   ]
  },
  {
   "cell_type": "code",
   "execution_count": 15,
   "metadata": {},
   "outputs": [
    {
     "name": "stdout",
     "output_type": "stream",
     "text": [
      "1/1 [==============================] - 0s 223ms/step\n",
      "The prediction is: Pneumonia\n"
     ]
    }
   ],
   "source": [
    "# preprocess the image\n",
    "# loading and resizing \n",
    "image = cv2.imread('chest x-ray/test/PNEUMONIA/VIRUS-3174339-0001.jpeg')\n",
    "image = cv2.resize(image, (img_width, img_height))\n",
    "image = image.astype(\"float\") / 255.0\n",
    "#converting the image to a numpy array\n",
    "image = keras.utils.img_to_array(image)\n",
    "#expanding the shape of the array\n",
    "image = np.expand_dims(image, axis = 0)\n",
    "\n",
    "# Predicting \n",
    "result = model.predict(image)\n",
    "pred = np.argmax(result, axis=1)\n",
    "prediction = \"NR\"\n",
    "if(pred[0] == 0):\n",
    "    prediction = \"Healthy\"\n",
    "else:\n",
    "    prediction = \"Sick\"\n",
    "\n",
    "# What the doctor should conclude\n",
    "print(\"The prediction is: \" + prediction)"
   ]
  }
 ],
 "metadata": {
  "kernelspec": {
   "display_name": "Python 3.9.7 64-bit",
   "language": "python",
   "name": "python3"
  },
  "language_info": {
   "codemirror_mode": {
    "name": "ipython",
    "version": 3
   },
   "file_extension": ".py",
   "mimetype": "text/x-python",
   "name": "python",
   "nbconvert_exporter": "python",
   "pygments_lexer": "ipython3",
   "version": "3.9.7"
  },
  "orig_nbformat": 4,
  "vscode": {
   "interpreter": {
    "hash": "8807d809ecb30b06ce31d476480b5670d7de5a054084e3328a6e4c7aeab9e5f0"
   }
  }
 },
 "nbformat": 4,
 "nbformat_minor": 2
}
