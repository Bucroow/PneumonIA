{
 "cells": [
  {
   "cell_type": "code",
   "execution_count": null,
   "metadata": {},
   "outputs": [],
   "source": [
    "import cv2\n",
    "import numpy as np\n",
    "import requests\n",
    "import matplotlib.pyplot as plt\n",
    "import matplotlib.image as mpimg\n",
    "import sys\n",
    "import datetime\n",
    "from tensorflow import keras\n",
    "from tensorflow.keras.models import Model\n",
    "import tensorflow as tf\n",
    "from tensorflow.keras.models import Model , Sequential\n",
    "from tensorflow.keras.layers import Dense , Flatten , Lambda , Input\n",
    "from tensorflow.keras.applications.vgg19 import VGG19\n",
    "from tensorflow.keras.preprocessing.image import ImageDataGenerator\n",
    "from tensorflow.keras.preprocessing import image\n",
    "from glob import glob"
   ]
  },
  {
   "cell_type": "code",
   "execution_count": null,
   "metadata": {},
   "outputs": [],
   "source": [
    "IMAGE_SIZE = [200,200]\n",
    "\n",
    "train_path = 'chest x-ray/train'\n",
    "test_path = 'chest x-ray/test'\n",
    "\n",
    "vgg19_model = VGG19(\n",
    "  weights = 'imagenet',\n",
    "  input_shape=IMAGE_SIZE + [3],\n",
    "  include_top=False\n",
    ")\n",
    "#freezing all the layers when training\n",
    "for layer in vgg19_model.layers:\n",
    "  layer.trainable = False\n",
    "\n",
    "folders = glob('chest x-ray/train/*')\n",
    "\n",
    "x = Flatten()(vgg19_model.output)\n",
    "\n",
    "prediction = Dense(len(folders),activation = 'softmax')(x)\n",
    "\n",
    "model = Model(inputs = vgg19_model.input , outputs = prediction)\n",
    "\n",
    "model.summary()\n",
    "\n",
    "model.compile(loss = 'categorical_crossentropy' , optimizer = 'adam', metrics = ['accuracy'])"
   ]
  },
  {
   "cell_type": "code",
   "execution_count": null,
   "metadata": {},
   "outputs": [],
   "source": [
    "#don't forgert to raise the output : text line limit to be able to run the test fully (30 --> 20 000)\n",
    "from keras.preprocessing.image import ImageDataGenerator\n",
    "\n",
    "#\n",
    "train_datagen = ImageDataGenerator(rescale = 1./200,shear_range = 0.2,zoom_range = 0.3 , horizontal_flip = True)\n",
    "\n",
    "test_datagen = ImageDataGenerator(rescale = 1./200)\n",
    "\n",
    "#attributing the right directory to train/test\n",
    "training_set = train_datagen.flow_from_directory('chest x-ray/train',target_size = (200,200),batch_size = 32 , class_mode = 'categorical')\n",
    "\n",
    "test_set = test_datagen.flow_from_directory('chest x-ray/test',target_size = (200,200),batch_size = 32 , class_mode = 'categorical')\n",
    "\n",
    "#training the whole thing with our vgg19, doing 5 iterations\n",
    "model.fit(training_set,validation_data= test_set,epochs = 5,steps_per_epoch = len(training_set),validation_steps =len(test_set))"
   ]
  },
  {
   "cell_type": "code",
   "execution_count": null,
   "metadata": {},
   "outputs": [],
   "source": [
    "#Saving your model\n",
    "model.save('chest_images_vgg19_v2.h5')"
   ]
  }
 ],
 "metadata": {
  "kernelspec": {
   "display_name": "Python 3.9.7 64-bit",
   "language": "python",
   "name": "python3"
  },
  "language_info": {
   "name": "python",
   "version": "3.9.7"
  },
  "orig_nbformat": 4,
  "vscode": {
   "interpreter": {
    "hash": "8807d809ecb30b06ce31d476480b5670d7de5a054084e3328a6e4c7aeab9e5f0"
   }
  }
 },
 "nbformat": 4,
 "nbformat_minor": 2
}
